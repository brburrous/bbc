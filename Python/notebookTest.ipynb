{
    "cells": [
        {
            "cell_type": "code",
            "execution_count": 1,
            "source": [
                "import xlrd\n",
                "from helperFuncs import *"
            ],
            "outputs": [],
            "metadata": {}
        },
        {
            "cell_type": "code",
            "execution_count": 2,
            "source": [
                "filename = '../data/BBC Programs Edited.xls'"
            ],
            "outputs": [],
            "metadata": {}
        },
        {
            "cell_type": "code",
            "execution_count": 3,
            "source": [
                "book = xlrd.open_workbook(filename)\n",
                "sheet = book.sheet_by_index(0)"
            ],
            "outputs": [],
            "metadata": {}
        },
        {
            "cell_type": "code",
            "execution_count": 4,
            "source": [
                "sheet.cell(129,0)"
            ],
            "outputs": [
                {
                    "output_type": "execute_result",
                    "data": {
                        "text/plain": [
                            "text:'End of Piece'"
                        ]
                    },
                    "metadata": {},
                    "execution_count": 4
                }
            ],
            "metadata": {}
        },
        {
            "cell_type": "code",
            "execution_count": 5,
            "source": [
                "names =sheet.col_slice(0)\n",
                "codes = sheet.col_slice(1)"
            ],
            "outputs": [],
            "metadata": {}
        },
        {
            "cell_type": "code",
            "execution_count": 31,
            "source": [
                "len(codes)"
            ],
            "outputs": [
                {
                    "output_type": "execute_result",
                    "data": {
                        "text/plain": [
                            "166"
                        ]
                    },
                    "metadata": {},
                    "execution_count": 31
                }
            ],
            "metadata": {}
        },
        {
            "cell_type": "code",
            "execution_count": 32,
            "source": [
                "codes2 =codes[0:129]"
            ],
            "outputs": [],
            "metadata": {}
        },
        {
            "cell_type": "code",
            "execution_count": 33,
            "source": [
                "codesSet = {i.value for i in codes2}"
            ],
            "outputs": [],
            "metadata": {}
        },
        {
            "cell_type": "code",
            "execution_count": 38,
            "source": [
                "len(codesSet)"
            ],
            "outputs": [
                {
                    "output_type": "execute_result",
                    "data": {
                        "text/plain": [
                            "65"
                        ]
                    },
                    "metadata": {},
                    "execution_count": 38
                }
            ],
            "metadata": {}
        },
        {
            "cell_type": "code",
            "execution_count": 37,
            "source": [
                "\"CST3\" in codesSet"
            ],
            "outputs": [
                {
                    "output_type": "execute_result",
                    "data": {
                        "text/plain": [
                            "True"
                        ]
                    },
                    "metadata": {},
                    "execution_count": 37
                }
            ],
            "metadata": {}
        },
        {
            "cell_type": "code",
            "execution_count": 13,
            "source": [
                "directory = getDirectory()\n",
                "files = getFiles(directory)"
            ],
            "outputs": [],
            "metadata": {}
        },
        {
            "cell_type": "code",
            "execution_count": 39,
            "source": [
                "numMatch =0\n",
                "numNoMatch =0\n",
                "nonMatches = set()\n",
                "\n",
                "for file in files:\n",
                "    book = xlrd.open_workbook(file.path)\n",
                "    sheet = book.sheet_by_index(1)\n",
                "    i = 18\n",
                "    while i < sheet.nrows and sheet.cell(i, 3).value != \"UPHOLSTERY\":\n",
                "        if sheet.cell(i, 3).value:\n",
                "            if sheet.cell(i, 7).value in codesSet: \n",
                "                numMatch = numMatch + 1\n",
                "            else:\n",
                "                numNoMatch = numNoMatch + 1\n",
                "                nonMatches.add(sheet.cell(i, 7).value)\n",
                "        i = i + 1 \n"
            ],
            "outputs": [],
            "metadata": {}
        },
        {
            "cell_type": "code",
            "execution_count": 25,
            "source": [
                "from icecream import ic"
            ],
            "outputs": [],
            "metadata": {}
        },
        {
            "cell_type": "code",
            "execution_count": 40,
            "source": [
                "ic(numMatch)\n",
                "ic(numNoMatch)\n",
                "ic(len(nonMatches))"
            ],
            "outputs": [
                {
                    "output_type": "stream",
                    "name": "stderr",
                    "text": [
                        "ic| numMatch: 28968\n",
                        "ic| numNoMatch: 1589\n",
                        "ic| len(nonMatches): 61\n"
                    ]
                },
                {
                    "output_type": "execute_result",
                    "data": {
                        "text/plain": [
                            "61"
                        ]
                    },
                    "metadata": {},
                    "execution_count": 40
                }
            ],
            "metadata": {}
        },
        {
            "cell_type": "code",
            "execution_count": 41,
            "source": [
                "nonMatches"
            ],
            "outputs": [
                {
                    "output_type": "execute_result",
                    "data": {
                        "text/plain": [
                            "{' ',\n",
                            " 0.0,\n",
                            " 0.06,\n",
                            " 0.08,\n",
                            " 0.16,\n",
                            " 0.22,\n",
                            " 0.24,\n",
                            " 0.26,\n",
                            " 0.28,\n",
                            " 0.3,\n",
                            " 0.32,\n",
                            " 0.34,\n",
                            " 0.38,\n",
                            " 0.44,\n",
                            " 0.46,\n",
                            " 0.48,\n",
                            " 0.5,\n",
                            " 0.52,\n",
                            " 0.54,\n",
                            " 0.55,\n",
                            " 3.0,\n",
                            " 3.25,\n",
                            " 3.5,\n",
                            " 4.25,\n",
                            " 4.5,\n",
                            " 'AFR3',\n",
                            " 'ALG1',\n",
                            " 'ALG2',\n",
                            " 'ALG4',\n",
                            " 'ALG5',\n",
                            " 'ALG6',\n",
                            " 'ALG7',\n",
                            " 'BLG1',\n",
                            " 'BLG2',\n",
                            " 'BLG4',\n",
                            " 'BLG5',\n",
                            " 'BLG6',\n",
                            " 'BLG7',\n",
                            " 'CBB1',\n",
                            " 'CBB2',\n",
                            " 'CBB4',\n",
                            " 'CMT1',\n",
                            " 'CMT3',\n",
                            " 'CRM1',\n",
                            " 'CRM2',\n",
                            " 'CRM4',\n",
                            " 'CRM5',\n",
                            " 'CRM6',\n",
                            " 'CST1',\n",
                            " 'CST2',\n",
                            " 'CST4',\n",
                            " 'CST5',\n",
                            " 'CST6',\n",
                            " 'CST7',\n",
                            " 'CST8',\n",
                            " 'CST9',\n",
                            " 'CXS2',\n",
                            " 'CXS4',\n",
                            " 'Morgan Lane Real Estate',\n",
                            " 'UAL4',\n",
                            " 'lg3'}"
                        ]
                    },
                    "metadata": {},
                    "execution_count": 41
                }
            ],
            "metadata": {}
        }
    ],
    "metadata": {
        "orig_nbformat": 4,
        "language_info": {
            "name": "python",
            "version": "3.9.6",
            "mimetype": "text/x-python",
            "codemirror_mode": {
                "name": "ipython",
                "version": 3
            },
            "pygments_lexer": "ipython3",
            "nbconvert_exporter": "python",
            "file_extension": ".py"
        },
        "kernelspec": {
            "name": "python3",
            "display_name": "Python 3.9.6 64-bit ('venv': venv)"
        },
        "interpreter": {
            "hash": "e2db654e344515d989d46c9999da0631295bf1c6a547308079c51b92dec8cda0"
        }
    },
    "nbformat": 4,
    "nbformat_minor": 2
}