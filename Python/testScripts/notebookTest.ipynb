{
    "cells": [
        {
            "cell_type": "code",
            "execution_count": 5,
            "source": [
                "import xlrd\n",
                "from roomScraper import extractRoomsData"
            ],
            "outputs": [],
            "metadata": {}
        },
        {
            "cell_type": "code",
            "execution_count": 6,
            "source": [
                "filename = '../data/94939owolf031.xls'"
            ],
            "outputs": [],
            "metadata": {}
        },
        {
            "cell_type": "code",
            "execution_count": 7,
            "source": [
                "book = xlrd.open_workbook(filename)\n",
                "sheet = book.sheet_by_index(1)"
            ],
            "outputs": [],
            "metadata": {}
        },
        {
            "cell_type": "code",
            "execution_count": 8,
            "source": [
                "rooms = extractRoomsData(sheet) "
            ],
            "outputs": [
                {
                    "output_type": "stream",
                    "name": "stdout",
                    "text": [
                        "baaaaar\n",
                        "Room #1 with name LIVING ROOM\n",
                        "Room #4 with name DEN - Off living room\n",
                        "Room #7 with name BATHROOM\n",
                        "Room #10 with name STAIRS To Garage\n",
                        "Room #13 with name STAIRS - To Lower Level\n",
                        "Room #16 with name HALLWAY\n",
                        "Room #19 with name BAR\n",
                        "Room #22 with name    \"  closet\n",
                        "fooooooo\n",
                        "Room #25 with name BATHROOM\n"
                    ]
                }
            ],
            "metadata": {}
        },
        {
            "cell_type": "code",
            "execution_count": 9,
            "source": [
                "print(rooms)"
            ],
            "outputs": [
                {
                    "output_type": "stream",
                    "name": "stdout",
                    "text": [
                        "[room(name='LIVING ROOM', length=21.0, width=14.0, cleanCode='CRM3', furnitureCode='', protectionCode='3CP3'), room(name='DEN - Off living room', length=9.0, width=5.0, cleanCode='CRM3', furnitureCode='', protectionCode='3CP3'), room(name='BATHROOM', length='', width='', cleanCode='CBB3', furnitureCode='', protectionCode='3CP3'), room(name='STAIRS To Garage', length=10.0, width='', cleanCode='CST3', furnitureCode='', protectionCode='3CP3'), room(name='STAIRS - To Lower Level', length=20.0, width='', cleanCode='CST3', furnitureCode='', protectionCode='3CP3'), room(name='HALLWAY', length=26.0, width=35.0, cleanCode='CRM3', furnitureCode='', protectionCode='3CP3'), room(name='BAR', length=16.0, width=12.0, cleanCode='CRM3', furnitureCode='', protectionCode='3CP3'), room(name='BAR  closet', length=0.0, width=0.0, cleanCode='CRM3', furnitureCode='', protectionCode='3CP3'), room(name='BATHROOM', length=13.0, width=10.0, cleanCode='CBB3', furnitureCode='', protectionCode='3CP3')]\n"
                    ]
                }
            ],
            "metadata": {}
        },
        {
            "cell_type": "code",
            "execution_count": 10,
            "source": [
                "from tabulate import tabulate"
            ],
            "outputs": [],
            "metadata": {}
        },
        {
            "cell_type": "code",
            "execution_count": 11,
            "source": [
                "roomsList = [r.formatList() for r in rooms]"
            ],
            "outputs": [],
            "metadata": {}
        },
        {
            "cell_type": "code",
            "execution_count": 12,
            "source": [
                "print(tabulate(roomsList, ['Name', 'Length', 'Width', 'Cling', 'Mv.F.', 'Prot.']))"
            ],
            "outputs": [
                {
                    "output_type": "stream",
                    "name": "stdout",
                    "text": [
                        "Name                     Length    Width    Cling    Mv.F.    Prot.\n",
                        "-----------------------  --------  -------  -------  -------  -------\n",
                        "LIVING ROOM              21.0      14.0     CRM3              3CP3\n",
                        "DEN - Off living room    9.0       5.0      CRM3              3CP3\n",
                        "BATHROOM                                    CBB3              3CP3\n",
                        "STAIRS To Garage         10.0               CST3              3CP3\n",
                        "STAIRS - To Lower Level  20.0               CST3              3CP3\n",
                        "HALLWAY                  26.0      35.0     CRM3              3CP3\n",
                        "BAR                      16.0      12.0     CRM3              3CP3\n",
                        "BAR  closet              0.0       0.0      CRM3              3CP3\n",
                        "BATHROOM                 13.0      10.0     CBB3              3CP3\n"
                    ]
                }
            ],
            "metadata": {}
        },
        {
            "cell_type": "code",
            "execution_count": null,
            "source": [],
            "outputs": [],
            "metadata": {}
        },
        {
            "cell_type": "markdown",
            "source": [
                "# This is a heading"
            ],
            "metadata": {}
        }
    ],
    "metadata": {
        "orig_nbformat": 4,
        "language_info": {
            "name": "python",
            "version": "3.9.6",
            "mimetype": "text/x-python",
            "codemirror_mode": {
                "name": "ipython",
                "version": 3
            },
            "pygments_lexer": "ipython3",
            "nbconvert_exporter": "python",
            "file_extension": ".py"
        },
        "kernelspec": {
            "name": "python3",
            "display_name": "Python 3.9.6 64-bit ('venv': venv)"
        },
        "interpreter": {
            "hash": "e2db654e344515d989d46c9999da0631295bf1c6a547308079c51b92dec8cda0"
        }
    },
    "nbformat": 4,
    "nbformat_minor": 2
}